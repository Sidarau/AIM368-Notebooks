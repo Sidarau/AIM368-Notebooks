{
 "cells": [
  {
   "cell_type": "markdown",
   "metadata": {},
   "source": [
    "## Getting Started\n",
    "\n",
    "Notebooks allow you to execute snippets of code step-by-step by running a series of \"cells\".  As you work through these pre-made notebooks, you will execute each cell by selecting it and pressing *Shift+Enter*.  Make sure you execute all the cells in order!\n",
    "\n",
    "Try executing the two cells below to test how this works."
   ]
  },
  {
   "cell_type": "code",
   "execution_count": null,
   "metadata": {},
   "outputs": [],
   "source": [
    "# Set a variable called \"hello\" to the string \"hello world\"\n",
    "hello = 'hello world'"
   ]
  },
  {
   "cell_type": "code",
   "execution_count": null,
   "metadata": {},
   "outputs": [],
   "source": [
    "# Reference the variable from the previous cell and print it\n",
    "print(hello)"
   ]
  },
  {
   "cell_type": "markdown",
   "metadata": {},
   "source": [
    "## Prepare the Data\n",
    "\n",
    "Import the necessary libraries, read in the samples, and separate them into train/test datasets."
   ]
  },
  {
   "cell_type": "code",
   "execution_count": null,
   "metadata": {},
   "outputs": [],
   "source": [
    "import boto3\n",
    "import pandas as pd\n",
    "from io import StringIO\n",
    "\n",
    "samples_key = 'modules/dc759d1485734b1481cbd9beab219de2/v1/NotebookSamples.csv' # file with 2M pre-collected samples\n",
    "all_samples = boto3.client('s3').get_object(Bucket = 'ee-assets-prod-us-east-1', Key = samples_key)['Body'].read().decode('UTF-8')\n",
    "train_samples = ''.join(all_samples.splitlines(True)[:1500000]) # train on the first 1.5M samples\n",
    "test_samples = ''.join(all_samples.splitlines(True)[1500000:]) # test on the last 500K samples\n",
    "\n",
    "buckets = boto3.client('s3').list_buckets()['Buckets']\n",
    "samples_bucket = [bucket['Name'] for bucket in buckets if bucket['Name'].startswith('aim368-samples-bucket-')][0]\n",
    "\n",
    "boto3.client('s3').put_object(Bucket = samples_bucket, Key = 'TrainSamples.csv', Body = train_samples);\n",
    "boto3.client('s3').put_object(Bucket = samples_bucket, Key = 'TestSamples.csv', Body = test_samples);\n",
    "\n",
    "print('Done!')"
   ]
  },
  {
   "cell_type": "markdown",
   "metadata": {},
   "source": [
    "## Inspect the Data"
   ]
  },
  {
   "cell_type": "markdown",
   "metadata": {},
   "source": [
    "Just to remind you, here are the features we selected:\n",
    "* **Time Features**\n",
    " * duration (the value we want our model to predict)\n",
    " * FC average duration\n",
    "* **Item Features**\n",
    " * dimensions\n",
    " * quantity\n",
    " * weight\n",
    "* **Bin Features**\n",
    " * location\n",
    " * dimensions\n",
    " * fullness\n",
    " * clutter"
   ]
  },
  {
   "cell_type": "markdown",
   "metadata": {},
   "source": [
    "Read the data into a DataFrame to make it easier to work with, label each column, and display the first 10 samples."
   ]
  },
  {
   "cell_type": "code",
   "execution_count": null,
   "metadata": {},
   "outputs": [],
   "source": [
    "pd.set_option('display.float_format', lambda x: '%i' % x)\n",
    "df = pd.read_csv(StringIO(all_samples),\n",
    "                 names = ['duration', 'fc_avg', 'item_length', 'item_width', 'item_height', 'item_quantity', 'item_weight',\n",
    "                          'bin_location', 'bin_width', 'bin_height', 'bin_depth', 'bin_fullness', 'bin_clutter'])\n",
    "df.head(10)"
   ]
  },
  {
   "cell_type": "markdown",
   "metadata": {},
   "source": [
    "Make a table showing summary statistics for each feature in the dataset."
   ]
  },
  {
   "cell_type": "code",
   "execution_count": null,
   "metadata": {},
   "outputs": [],
   "source": [
    "df.describe()"
   ]
  },
  {
   "cell_type": "markdown",
   "metadata": {},
   "source": [
    "## Visualize the Data"
   ]
  },
  {
   "cell_type": "markdown",
   "metadata": {},
   "source": [
    "Plot the distributions of each feature in the dataset."
   ]
  },
  {
   "cell_type": "code",
   "execution_count": null,
   "metadata": {},
   "outputs": [],
   "source": [
    "df['duration'].sample(100000).plot.hist(bins = 200, title = 'Duration').set_xlabel(\"Duration (milliseconds)\", size = 12);"
   ]
  },
  {
   "cell_type": "code",
   "execution_count": null,
   "metadata": {},
   "outputs": [],
   "source": [
    "df['fc_avg'].sample(100000).plot.hist(bins = 5, title = 'FC Average Duration').set_xlabel(\"Average Duration (milliseconds)\", size = 12);"
   ]
  },
  {
   "cell_type": "code",
   "execution_count": null,
   "metadata": {},
   "outputs": [],
   "source": [
    "df['item_length'].sample(100000).plot.hist(bins = range(450)[::2], title = 'Product Length').set_xlabel(\"Length (millimeters)\", size = 12);"
   ]
  },
  {
   "cell_type": "code",
   "execution_count": null,
   "metadata": {},
   "outputs": [],
   "source": [
    "df['item_width'].sample(100000).plot.hist(bins = range(400)[::2], title = 'Product Width').set_xlabel(\"Width (millimeters)\", size = 12);"
   ]
  },
  {
   "cell_type": "code",
   "execution_count": null,
   "metadata": {},
   "outputs": [],
   "source": [
    "df['item_height'].sample(100000).plot.hist(bins = range(250)[::2], title = 'Product Height').set_xlabel(\"Height (millimeters)\", size = 12);"
   ]
  },
  {
   "cell_type": "code",
   "execution_count": null,
   "metadata": {},
   "outputs": [],
   "source": [
    "df['item_quantity'].sample(100000).plot.hist(bins = 9, title = 'Product Quantity').set_xlabel(\"Count\", size = 12);"
   ]
  },
  {
   "cell_type": "code",
   "execution_count": null,
   "metadata": {},
   "outputs": [],
   "source": [
    "df['item_weight'].sample(100000).plot.hist(bins = range(2500)[::25], title = 'Product Weight').set_xlabel(\"Weight (grams)\", size = 12);"
   ]
  },
  {
   "cell_type": "code",
   "execution_count": null,
   "metadata": {},
   "outputs": [],
   "source": [
    "df['bin_location'].sample(100000).plot.hist(bins = 5, title = 'Bin Location').set_xlabel(\"Distance from Ground (millimeters)\", size = 12);"
   ]
  },
  {
   "cell_type": "code",
   "execution_count": null,
   "metadata": {},
   "outputs": [],
   "source": [
    "df['bin_width'].sample(100000).plot.hist(bins = 5, title = 'Bin Height').set_xlabel(\"Height (millimeters)\", size = 12);"
   ]
  },
  {
   "cell_type": "code",
   "execution_count": null,
   "metadata": {},
   "outputs": [],
   "source": [
    "df['bin_height'].sample(100000).plot.hist(bins = 5, title = 'Bin Width').set_xlabel(\"Width (millimeters)\", size = 12);"
   ]
  },
  {
   "cell_type": "code",
   "execution_count": null,
   "metadata": {},
   "outputs": [],
   "source": [
    "df['bin_depth'].sample(100000).plot.hist(bins = 5, title = 'Bin Depth').set_xlabel(\"Depth (millimeters)\", size = 12);"
   ]
  },
  {
   "cell_type": "code",
   "execution_count": null,
   "metadata": {},
   "outputs": [],
   "source": [
    "df['bin_fullness'].sample(100000).plot.hist(bins = range(100), title = 'Bin Fullness').set_xlabel(\"Fullness (percent)\", size = 12);"
   ]
  },
  {
   "cell_type": "code",
   "execution_count": null,
   "metadata": {},
   "outputs": [],
   "source": [
    "df['bin_clutter'].sample(100000).plot.hist(bins = range(100), title = 'Bin Clutter').set_xlabel(\"Clutter (percent)\", size = 12);"
   ]
  }
 ],
 "metadata": {
  "kernelspec": {
   "display_name": "conda_python3",
   "language": "python",
   "name": "conda_python3"
  },
  "language_info": {
   "codemirror_mode": {
    "name": "ipython",
    "version": 3
   },
   "file_extension": ".py",
   "mimetype": "text/x-python",
   "name": "python",
   "nbconvert_exporter": "python",
   "pygments_lexer": "ipython3",
   "version": "3.6.5"
  }
 },
 "nbformat": 4,
 "nbformat_minor": 4
}
