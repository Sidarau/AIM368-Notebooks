{
 "cells": [
  {
   "cell_type": "markdown",
   "metadata": {},
   "source": [
    "## Initialize the Model\n",
    "\n",
    "Import the necessary libraries, find the samples bucket, and initialize an **XGBoost** model."
   ]
  },
  {
   "cell_type": "code",
   "execution_count": null,
   "metadata": {},
   "outputs": [],
   "source": [
    "import math\n",
    "import boto3\n",
    "import sagemaker\n",
    "from sagemaker import get_execution_role\n",
    "from sagemaker.amazon.amazon_estimator import get_image_uri\n",
    "from sagemaker.session import s3_input\n",
    "\n",
    "all_buckets = boto3.client('s3').list_buckets()['Buckets']\n",
    "samples_bucket = [bucket['Name'] for bucket in all_buckets if bucket['Name'].startswith('aim368-samples-bucket-')][0]\n",
    "\n",
    "model = sagemaker.estimator.Estimator(image_name = get_image_uri(boto3.Session().region_name, 'xgboost', '0.90-1'),\n",
    "                                      role = get_execution_role(), \n",
    "                                      train_instance_count = 1, \n",
    "                                      train_instance_type = 'ml.c5.2xlarge',\n",
    "                                      sagemaker_session = sagemaker.Session())\n",
    "\n",
    "print('Done!')"
   ]
  },
  {
   "cell_type": "markdown",
   "metadata": {},
   "source": [
    "## Choose Hyperparameters\n",
    "\n",
    "**Hyperparameters** are settings that adjust how a machine learning algorithm learns from a dataset.\n",
    "\n",
    "For descriptions of each hyperparameter avaiable in the **XGBoost** algorithm, reference SageMaker's official AWS documentation:\n",
    "https://docs.aws.amazon.com/sagemaker/latest/dg/xgboost_hyperparameters.html\n",
    "\n",
    "---\n",
    "\n",
    "In this cell, you will need to delete each **REPLACE_ME** below and type in a value for that hyperparameter. Each one has a comment next to it that specifies a range of reasonable values to help you choose. Feel free to add more hyperparameters, but remember it could affect the quality of your model!"
   ]
  },
  {
   "cell_type": "code",
   "execution_count": null,
   "metadata": {},
   "outputs": [],
   "source": [
    "model.set_hyperparameters(\n",
    "    num_round             = REPLACE_ME, # integer [20, 200]\n",
    "    early_stopping_rounds = REPLACE_ME, # integer [1, 10]\n",
    "    max_depth             = REPLACE_ME, # integer [3, 6]\n",
    "    eta                   = REPLACE_ME  # float [0.1, 1.0]\n",
    ")\n",
    "\n",
    "print('Success!')"
   ]
  },
  {
   "cell_type": "markdown",
   "metadata": {},
   "source": [
    "## Start the Training Job\n",
    "\n",
    "The code below will begin training your ML model with the hyperparameters you selected.\n",
    "\n",
    "---\n",
    "\n",
    "Training your ML model should take about 5-10 minutes, so in the mean time, feel free to start training jobs for the other algorithms.\n",
    "\n",
    "You will know the command is done when when you see ```Completed - Training job completed``` in the output."
   ]
  },
  {
   "cell_type": "code",
   "execution_count": null,
   "metadata": {},
   "outputs": [],
   "source": [
    "model.fit(inputs = {'train': s3_input('s3://' + samples_bucket + '/TrainSamples.csv', content_type='text/csv'),\n",
    "                    'validation': s3_input('s3://' + samples_bucket + '/TestSamples.csv', content_type='text/csv')}, logs = False)"
   ]
  },
  {
   "cell_type": "markdown",
   "metadata": {},
   "source": [
    "## Evaluate the Model\n",
    "\n",
    "Once your model has finished training, execute the next cell to extract the \"root mean squared error\" from the training job logs. This number represents the average inaccuracy of your model in milliseconds, so the smaller the number the better!"
   ]
  },
  {
   "cell_type": "code",
   "execution_count": null,
   "metadata": {},
   "outputs": [],
   "source": [
    "log_streams = boto3.client('logs').describe_log_streams(logGroupName = '/aws/sagemaker/TrainingJobs', logStreamNamePrefix = 'sagemaker-xgboost')['logStreams']\n",
    "events = boto3.client('logs').get_log_events(logGroupName = '/aws/sagemaker/TrainingJobs', logStreamName = log_streams[-1]['logStreamName'])['events']\n",
    "\n",
    "print('XGBoost training error: ' + str(int(float(events[-1]['message'].split(':')[-1]))))"
   ]
  },
  {
   "cell_type": "markdown",
   "metadata": {},
   "source": [
    "## Deploy the Model\n",
    "\n",
    "If you believe your **XGBoost** model is better than your other two, copy the deployment code from the instructions into the cell below and execute it."
   ]
  },
  {
   "cell_type": "code",
   "execution_count": null,
   "metadata": {},
   "outputs": [],
   "source": []
  }
 ],
 "metadata": {
  "kernelspec": {
   "display_name": "conda_python3",
   "language": "python",
   "name": "conda_python3"
  },
  "language_info": {
   "codemirror_mode": {
    "name": "ipython",
    "version": 3
   },
   "file_extension": ".py",
   "mimetype": "text/x-python",
   "name": "python",
   "nbconvert_exporter": "python",
   "pygments_lexer": "ipython3",
   "version": "3.6.5"
  }
 },
 "nbformat": 4,
 "nbformat_minor": 4
}
